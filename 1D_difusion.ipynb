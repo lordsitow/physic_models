{
 "cells": [
  {
   "cell_type": "code",
   "execution_count": 48,
   "metadata": {},
   "outputs": [
    {
     "name": "stdout",
     "output_type": "stream",
     "text": [
      "[-2]\n"
     ]
    }
   ],
   "source": [
    "#Imports\n",
    "import numpy as np\n",
    "from random import random\n",
    "import matplotlib.pyplot as plt\n",
    "\n",
    "#Variables\n",
    "step_number = range(10)\n",
    "drunkards_number = range(10)\n",
    "actual_pos = 0\n",
    "end_positions = []\n",
    "deviations = []\n",
    "\n",
    "#Compute end points\n",
    "for\n",
    "for step in step_number:\n",
    "    if(random() > 0.5):\n",
    "        actual_pos = actual_pos + 1\n",
    "    else:\n",
    "        actual_pos = actual_pos - 1\n",
    "end_positions.append(actual_pos)\n",
    "actual_pos = 0\n",
    "#Compute deviations\n",
    "\n",
    "#Compute linear regresion\n",
    "\n",
    "#Show results\n",
    "print(end_positions)\n",
    "\n"
   ]
  },
  {
   "cell_type": "code",
   "execution_count": null,
   "metadata": {},
   "outputs": [],
   "source": []
  },
  {
   "cell_type": "code",
   "execution_count": null,
   "metadata": {},
   "outputs": [],
   "source": []
  }
 ],
 "metadata": {
  "kernelspec": {
   "display_name": "Python 3",
   "language": "python",
   "name": "python3"
  },
  "language_info": {
   "codemirror_mode": {
    "name": "ipython",
    "version": 3
   },
   "file_extension": ".py",
   "mimetype": "text/x-python",
   "name": "python",
   "nbconvert_exporter": "python",
   "pygments_lexer": "ipython3",
   "version": "3.7.1"
  }
 },
 "nbformat": 4,
 "nbformat_minor": 2
}
